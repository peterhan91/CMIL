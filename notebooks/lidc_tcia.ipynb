{
 "cells": [
  {
   "cell_type": "code",
   "execution_count": 64,
   "metadata": {},
   "outputs": [],
   "source": [
    "from pathlib import Path \n",
    "import pylidc as pl\n",
    "import numpy as np \n",
    "import os\n",
    "import pandas as pd \n",
    "from tqdm import tqdm\n",
    "from glob import glob\n",
    "from multiprocessing import Pool, Manager\n",
    "from pylidc.utils import consensus\n",
    "from matplotlib import pyplot as plt\n",
    "from sklearn.model_selection import train_test_split\n",
    "\n",
    "from IPython.core.interactiveshell import InteractiveShell\n",
    "InteractiveShell.ast_node_interactivity = \"all\""
   ]
  },
  {
   "cell_type": "code",
   "execution_count": 2,
   "metadata": {},
   "outputs": [],
   "source": [
    "LABELS = ['subtlety', 'internalStructure', 'calcification', 'sphericity', 'margin', 'lobulation', 'spiculation',\n",
    "          'texture', 'malignancy']"
   ]
  },
  {
   "cell_type": "code",
   "execution_count": 3,
   "metadata": {},
   "outputs": [],
   "source": [
    "def scan2labels(scan_id):\n",
    "    scan = pl.query(pl.Scan).filter(pl.Scan.id == scan_id).first()\n",
    "    \n",
    "    # Read nifti (required for correct affine matrix)\n",
    "    scan_ann = []\n",
    "\n",
    "    for nod_idx, nodules in enumerate(scan.cluster_annotations()): # Each scan has multiple nodules\n",
    "        for ann_idx, ann in enumerate(nodules): # Each nodule was rated between 1 and 4 raters\n",
    "            ann_dict = {label:getattr(ann, label) for label in LABELS}\n",
    "            ann_dict['bbox'] = [[d.start, d.stop] for d in  ann.bbox()]\n",
    "            ann_dict['scan_id'] = scan.id # equal for all nodules/annotations \n",
    "            ann_dict['nodule_idx'] = nod_idx \n",
    "            ann_dict['annotation_idx'] = ann_idx \n",
    "            ann_dict['annotation_num'] = len(nodules) \n",
    "            ann_dict['annotation_id'] = ann.id # unique - same annotator has different numbers \n",
    "            ann_dict['patient_id'] = scan.patient_id\n",
    "            ann_dict['study_instance_uid'] = scan.study_instance_uid\n",
    "            ann_dict['series_instance_uid'] = scan.series_instance_uid\n",
    "            scan_ann.append(ann_dict)\n",
    "    return scan_ann"
   ]
  },
  {
   "cell_type": "code",
   "execution_count": 4,
   "metadata": {},
   "outputs": [
    {
     "name": "stderr",
     "output_type": "stream",
     "text": [
      "  6%|▋         | 66/1018 [00:14<04:21,  3.64it/s]"
     ]
    },
    {
     "name": "stdout",
     "output_type": "stream",
     "text": [
      "Failed to reduce all groups to <= 4 Annotations.\n",
      "Some nodules may be close and must be grouped manually.\n"
     ]
    },
    {
     "name": "stderr",
     "output_type": "stream",
     "text": [
      " 10%|▉         | 101/1018 [00:22<02:58,  5.15it/s]"
     ]
    },
    {
     "name": "stdout",
     "output_type": "stream",
     "text": [
      "Failed to reduce all groups to <= 4 Annotations.\n",
      "Some nodules may be close and must be grouped manually.\n"
     ]
    },
    {
     "name": "stderr",
     "output_type": "stream",
     "text": [
      " 14%|█▍        | 140/1018 [00:31<04:32,  3.22it/s]"
     ]
    },
    {
     "name": "stdout",
     "output_type": "stream",
     "text": [
      "Failed to reduce all groups to <= 4 Annotations.\n",
      "Some nodules may be close and must be grouped manually.\n"
     ]
    },
    {
     "name": "stderr",
     "output_type": "stream",
     "text": [
      " 20%|██        | 205/1018 [00:45<02:11,  6.17it/s]"
     ]
    },
    {
     "name": "stdout",
     "output_type": "stream",
     "text": [
      "Failed to reduce all groups to <= 4 Annotations.\n",
      "Some nodules may be close and must be grouped manually.\n"
     ]
    },
    {
     "name": "stderr",
     "output_type": "stream",
     "text": [
      " 25%|██▍       | 254/1018 [00:52<01:24,  9.07it/s]"
     ]
    },
    {
     "name": "stdout",
     "output_type": "stream",
     "text": [
      "Failed to reduce all groups to <= 4 Annotations.\n",
      "Some nodules may be close and must be grouped manually.\n"
     ]
    },
    {
     "name": "stderr",
     "output_type": "stream",
     "text": [
      " 33%|███▎      | 335/1018 [01:02<01:17,  8.80it/s]"
     ]
    },
    {
     "name": "stdout",
     "output_type": "stream",
     "text": [
      "Failed to reduce all groups to <= 4 Annotations.\n",
      "Some nodules may be close and must be grouped manually.\n"
     ]
    },
    {
     "name": "stderr",
     "output_type": "stream",
     "text": [
      " 34%|███▎      | 342/1018 [01:05<03:46,  2.98it/s]"
     ]
    },
    {
     "name": "stdout",
     "output_type": "stream",
     "text": [
      "Failed to reduce all groups to <= 4 Annotations.\n",
      "Some nodules may be close and must be grouped manually.\n"
     ]
    },
    {
     "name": "stderr",
     "output_type": "stream",
     "text": [
      " 36%|███▋      | 370/1018 [01:09<01:15,  8.55it/s]"
     ]
    },
    {
     "name": "stdout",
     "output_type": "stream",
     "text": [
      "Failed to reduce all groups to <= 4 Annotations.\n",
      "Some nodules may be close and must be grouped manually.\n"
     ]
    },
    {
     "name": "stderr",
     "output_type": "stream",
     "text": [
      " 40%|████      | 408/1018 [01:18<04:33,  2.23it/s]"
     ]
    },
    {
     "name": "stdout",
     "output_type": "stream",
     "text": [
      "Failed to reduce all groups to <= 4 Annotations.\n",
      "Some nodules may be close and must be grouped manually.\n"
     ]
    },
    {
     "name": "stderr",
     "output_type": "stream",
     "text": [
      " 60%|██████    | 613/1018 [01:57<02:06,  3.21it/s]"
     ]
    },
    {
     "name": "stdout",
     "output_type": "stream",
     "text": [
      "Failed to reduce all groups to <= 4 Annotations.\n",
      "Some nodules may be close and must be grouped manually.\n"
     ]
    },
    {
     "name": "stderr",
     "output_type": "stream",
     "text": [
      " 70%|███████   | 714/1018 [02:15<00:54,  5.58it/s]"
     ]
    },
    {
     "name": "stdout",
     "output_type": "stream",
     "text": [
      "Failed to reduce all groups to <= 4 Annotations.\n",
      "Some nodules may be close and must be grouped manually.\n"
     ]
    },
    {
     "name": "stderr",
     "output_type": "stream",
     "text": [
      " 78%|███████▊  | 790/1018 [02:28<00:59,  3.80it/s]"
     ]
    },
    {
     "name": "stdout",
     "output_type": "stream",
     "text": [
      "Failed to reduce all groups to <= 4 Annotations.\n",
      "Some nodules may be close and must be grouped manually.\n"
     ]
    },
    {
     "name": "stderr",
     "output_type": "stream",
     "text": [
      " 78%|███████▊  | 794/1018 [02:29<00:37,  5.98it/s]"
     ]
    },
    {
     "name": "stdout",
     "output_type": "stream",
     "text": [
      "Failed to reduce all groups to <= 4 Annotations.\n",
      "Some nodules may be close and must be grouped manually.\n"
     ]
    },
    {
     "name": "stderr",
     "output_type": "stream",
     "text": [
      " 83%|████████▎ | 841/1018 [02:40<00:32,  5.46it/s]"
     ]
    },
    {
     "name": "stdout",
     "output_type": "stream",
     "text": [
      "Failed to reduce all groups to <= 4 Annotations.\n",
      "Some nodules may be close and must be grouped manually.\n"
     ]
    },
    {
     "name": "stderr",
     "output_type": "stream",
     "text": [
      "100%|██████████| 1018/1018 [03:17<00:00,  5.15it/s]\n"
     ]
    }
   ],
   "source": [
    "scan_ids = range(1, len(list(pl.query(pl.Scan)))+1)\n",
    "\n",
    "all_ann = []\n",
    "for scan_id in tqdm(scan_ids):\n",
    "    all_ann.extend(scan2labels(scan_id))"
   ]
  },
  {
   "cell_type": "code",
   "execution_count": null,
   "metadata": {},
   "outputs": [
    {
     "name": "stdout",
     "output_type": "stream",
     "text": [
      "Malignant:  Malignant\n",
      "0    2149\n",
      "1     502\n",
      "Name: count, dtype: int64\n",
      "Calcification:  Calcification\n",
      "0    2349\n",
      "1     302\n",
      "Name: count, dtype: int64\n",
      "InternalStructure:  InternalStructure\n",
      "1    2636\n",
      "0      15\n",
      "Name: count, dtype: int64\n",
      "Sphericity:  Sphericity\n",
      "1    1538\n",
      "0    1113\n",
      "Name: count, dtype: int64\n",
      "Margin:  Margin\n",
      "0    2237\n",
      "1     414\n",
      "Name: count, dtype: int64\n",
      "Lobulation:  Lobulation\n",
      "0    2480\n",
      "1     171\n",
      "Name: count, dtype: int64\n",
      "Spiculation:  Spiculation\n",
      "0    2478\n",
      "1     173\n",
      "Name: count, dtype: int64\n",
      "Texture:  Texture\n",
      "1    2382\n",
      "0     269\n",
      "Name: count, dtype: int64\n",
      "InternalStructure:  InternalStructure\n",
      "1    2636\n",
      "0      15\n",
      "Name: count, dtype: int64\n",
      "Number Annotations:  2651\n",
      "Number Nodules (>3mm) 884\n",
      "Number Series:  883\n",
      "Number Patients:  875\n"
     ]
    },
    {
     "data": {
      "text/plain": [
       "2651"
      ]
     },
     "execution_count": 37,
     "metadata": {},
     "output_type": "execute_result"
    }
   ],
   "source": [
    "df = pd.DataFrame(all_ann)\n",
    "unique_cols = ['patient_id', 'study_instance_uid', 'series_instance_uid', 'scan_id', 'nodule_idx']\n",
    "df1 = df.groupby(unique_cols)['malignancy'].apply(lambda x:int(x.mean().round())).reset_index()\n",
    "\n",
    "df2 = df.drop_duplicates(unique_cols)\n",
    "df2 = df2.drop(columns='malignancy')\n",
    "\n",
    "df = pd.merge(df1, df2, on=unique_cols).reset_index(drop=True)\n",
    "\n",
    "# df = df[df['malignancy']!=3] # Remove all uncertain cases # See different approaches eg. https://doi.org/10.1038%2Fs41598-018-27569-w\n",
    "df['Malignant'] = (df['malignancy'] > 3).astype(int) # 1: Malignant, 0: Benign\n",
    "df['Calcification'] = (df['calcification'].isin([3,4,5])).astype(int) # 1: Atypical, 0: Benign\n",
    "df['Sphericity'] = (df['sphericity'] > 3).astype(int) # 1: Spherical, 0: Non-spherical\n",
    "df['Margin'] = (df['margin'] < 3).astype(int) # 1: Poorly defined, 0: Well defined\n",
    "df['Lobulation'] = (df['lobulation'] > 3).astype(int) # 1: Lobulated, 0: Non-lobulated\n",
    "df['Spiculation'] = (df['spiculation'] > 3).astype(int) # 1: Spiculated, 0: Non-spiculated\n",
    "df['Texture'] = (df['texture'] >= 3).astype(int) # 1: Solid or part-solid, 0: Non-solid\n",
    "df['InternalStructure'] = (df['internalStructure'] < 2).astype(int) # 1: soft tissue, 0: Non-soft tissue\n",
    "\n",
    "df = df.reset_index(drop=True)\n",
    "print(\"Number Annotations: \", len(df))\n",
    "print(\"Number Nodules (>3mm)\", len(np.unique(df[['scan_id', 'nodule_idx']])) )\n",
    "print(\"Number Series: \", len(np.unique(df[ 'series_instance_uid'])))\n",
    "print(\"Number Patients: \", len(np.unique(df[ 'patient_id'])))\n",
    "len(df)"
   ]
  },
  {
   "cell_type": "code",
   "execution_count": 57,
   "metadata": {},
   "outputs": [
    {
     "data": {
      "text/plain": [
       "1018"
      ]
     },
     "execution_count": 57,
     "metadata": {},
     "output_type": "execute_result"
    },
    {
     "data": {
      "text/plain": [
       "Malignant\n",
       "0    524\n",
       "1    359\n",
       "Name: count, dtype: int64"
      ]
     },
     "execution_count": 57,
     "metadata": {},
     "output_type": "execute_result"
    },
    {
     "data": {
      "text/plain": [
       "883"
      ]
     },
     "execution_count": 57,
     "metadata": {},
     "output_type": "execute_result"
    },
    {
     "data": {
      "text/html": [
       "<div>\n",
       "<style scoped>\n",
       "    .dataframe tbody tr th:only-of-type {\n",
       "        vertical-align: middle;\n",
       "    }\n",
       "\n",
       "    .dataframe tbody tr th {\n",
       "        vertical-align: top;\n",
       "    }\n",
       "\n",
       "    .dataframe thead th {\n",
       "        text-align: right;\n",
       "    }\n",
       "</style>\n",
       "<table border=\"1\" class=\"dataframe\">\n",
       "  <thead>\n",
       "    <tr style=\"text-align: right;\">\n",
       "      <th></th>\n",
       "      <th>series_instance_uid</th>\n",
       "      <th>Malignant</th>\n",
       "      <th>Calcification</th>\n",
       "      <th>Sphericity</th>\n",
       "      <th>Margin</th>\n",
       "      <th>Lobulation</th>\n",
       "      <th>Spiculation</th>\n",
       "      <th>Texture</th>\n",
       "      <th>patient_id</th>\n",
       "      <th>VolumeName</th>\n",
       "    </tr>\n",
       "  </thead>\n",
       "  <tbody>\n",
       "    <tr>\n",
       "      <th>0</th>\n",
       "      <td>1.3.6.1.4.1.14519.5.2.1.6279.6001.280125803152...</td>\n",
       "      <td>0</td>\n",
       "      <td>0</td>\n",
       "      <td>1</td>\n",
       "      <td>1</td>\n",
       "      <td>0</td>\n",
       "      <td>0</td>\n",
       "      <td>1</td>\n",
       "      <td>LIDC-IDRI-0042</td>\n",
       "      <td>1.3.6.1.4.1.14519.5.2.1.6279.6001.280125803152...</td>\n",
       "    </tr>\n",
       "    <tr>\n",
       "      <th>1</th>\n",
       "      <td>1.3.6.1.4.1.14519.5.2.1.6279.6001.250863365157...</td>\n",
       "      <td>1</td>\n",
       "      <td>0</td>\n",
       "      <td>1</td>\n",
       "      <td>1</td>\n",
       "      <td>0</td>\n",
       "      <td>0</td>\n",
       "      <td>1</td>\n",
       "      <td>LIDC-IDRI-0048</td>\n",
       "      <td>1.3.6.1.4.1.14519.5.2.1.6279.6001.250863365157...</td>\n",
       "    </tr>\n",
       "    <tr>\n",
       "      <th>2</th>\n",
       "      <td>1.3.6.1.4.1.14519.5.2.1.6279.6001.194632613233...</td>\n",
       "      <td>1</td>\n",
       "      <td>1</td>\n",
       "      <td>1</td>\n",
       "      <td>0</td>\n",
       "      <td>0</td>\n",
       "      <td>1</td>\n",
       "      <td>1</td>\n",
       "      <td>LIDC-IDRI-0087</td>\n",
       "      <td>1.3.6.1.4.1.14519.5.2.1.6279.6001.194632613233...</td>\n",
       "    </tr>\n",
       "    <tr>\n",
       "      <th>3</th>\n",
       "      <td>1.3.6.1.4.1.14519.5.2.1.6279.6001.311102747717...</td>\n",
       "      <td>0</td>\n",
       "      <td>0</td>\n",
       "      <td>1</td>\n",
       "      <td>0</td>\n",
       "      <td>0</td>\n",
       "      <td>0</td>\n",
       "      <td>1</td>\n",
       "      <td>LIDC-IDRI-0110</td>\n",
       "      <td>1.3.6.1.4.1.14519.5.2.1.6279.6001.311102747717...</td>\n",
       "    </tr>\n",
       "    <tr>\n",
       "      <th>4</th>\n",
       "      <td>1.3.6.1.4.1.14519.5.2.1.6279.6001.518487185634...</td>\n",
       "      <td>0</td>\n",
       "      <td>0</td>\n",
       "      <td>1</td>\n",
       "      <td>0</td>\n",
       "      <td>0</td>\n",
       "      <td>0</td>\n",
       "      <td>1</td>\n",
       "      <td>LIDC-IDRI-0227</td>\n",
       "      <td>1.3.6.1.4.1.14519.5.2.1.6279.6001.518487185634...</td>\n",
       "    </tr>\n",
       "  </tbody>\n",
       "</table>\n",
       "</div>"
      ],
      "text/plain": [
       "                                 series_instance_uid  Malignant  \\\n",
       "0  1.3.6.1.4.1.14519.5.2.1.6279.6001.280125803152...          0   \n",
       "1  1.3.6.1.4.1.14519.5.2.1.6279.6001.250863365157...          1   \n",
       "2  1.3.6.1.4.1.14519.5.2.1.6279.6001.194632613233...          1   \n",
       "3  1.3.6.1.4.1.14519.5.2.1.6279.6001.311102747717...          0   \n",
       "4  1.3.6.1.4.1.14519.5.2.1.6279.6001.518487185634...          0   \n",
       "\n",
       "   Calcification  Sphericity  Margin  Lobulation  Spiculation  Texture  \\\n",
       "0              0           1       1           0            0        1   \n",
       "1              0           1       1           0            0        1   \n",
       "2              1           1       0           0            1        1   \n",
       "3              0           1       0           0            0        1   \n",
       "4              0           1       0           0            0        1   \n",
       "\n",
       "       patient_id                                         VolumeName  \n",
       "0  LIDC-IDRI-0042  1.3.6.1.4.1.14519.5.2.1.6279.6001.280125803152...  \n",
       "1  LIDC-IDRI-0048  1.3.6.1.4.1.14519.5.2.1.6279.6001.250863365157...  \n",
       "2  LIDC-IDRI-0087  1.3.6.1.4.1.14519.5.2.1.6279.6001.194632613233...  \n",
       "3  LIDC-IDRI-0110  1.3.6.1.4.1.14519.5.2.1.6279.6001.311102747717...  \n",
       "4  LIDC-IDRI-0227  1.3.6.1.4.1.14519.5.2.1.6279.6001.518487185634...  "
      ]
     },
     "execution_count": 57,
     "metadata": {},
     "output_type": "execute_result"
    }
   ],
   "source": [
    "series = glob('/mnt/nas/CT/LIDC-IDRI/*')\n",
    "series = [os.path.basename(s) for s in series]\n",
    "len(list(set(series)))\n",
    "df = df[df['series_instance_uid'].isin(series)]\n",
    "\n",
    "labels = [\n",
    "    'Malignant', \n",
    "    'Calcification', \n",
    "    'Sphericity', \n",
    "    'Margin', \n",
    "    'Lobulation', \n",
    "    'Spiculation', \n",
    "    'Texture', \n",
    "    # 'InternalStructure'\n",
    "]\n",
    "\n",
    "result = []\n",
    "\n",
    "for s in series:\n",
    "    # Subset the DataFrame for this series\n",
    "    df_s = df[df['series_instance_uid'] == s]\n",
    "    if len(df_s) > 0:\n",
    "        # Prepare the dictionary for this series\n",
    "        row = {'series_instance_uid': s}\n",
    "        \n",
    "        if df_s.empty:\n",
    "            # If no nodules for this series, default everything to 0\n",
    "            for lab in labels:\n",
    "                row[lab] = 0\n",
    "        else:\n",
    "            # For each label, set to 1 if any nodule in df_s has that label = 1\n",
    "            for lab in labels:\n",
    "                row[lab] = int(df_s[lab].eq(1).any())\n",
    "        \n",
    "        # Append result\n",
    "        result.append(row)\n",
    "\n",
    "df_new = pd.DataFrame(result).drop_duplicates()\n",
    "df_new['Malignant'].value_counts()\n",
    "df_meta = pd.read_csv('/mnt/nas/CT/label_files/LIDC/LIDC-IDRI_MetaData.csv').sort_values('Subject ID')\n",
    "ps_dict = dict(zip(df_meta['Series ID'], df_meta['Subject ID']))\n",
    "p_list = []\n",
    "for s in df_new['series_instance_uid']:\n",
    "    p_list.append(ps_dict[s])\n",
    "df_new['patient_id'] = p_list\n",
    "df_new['VolumeName'] = df_new['series_instance_uid'] + '.nii.gz'\n",
    "len(df_new)\n",
    "\n",
    "df_new.head()\n",
    "# print(len(np.intersect1d(series, df['series_instance_uid'].tolist())))"
   ]
  },
  {
   "cell_type": "code",
   "execution_count": 58,
   "metadata": {},
   "outputs": [
    {
     "data": {
      "text/plain": [
       "(612, 50, 213)"
      ]
     },
     "execution_count": 58,
     "metadata": {},
     "output_type": "execute_result"
    }
   ],
   "source": [
    "train_list, test_list = train_test_split(df_new['patient_id'].unique().tolist(), test_size=0.3, random_state=42)\n",
    "df_test = df_new[df_new['patient_id'].isin(test_list)]\n",
    "test_list, val_list = train_test_split(df_test['patient_id'].unique().tolist(), test_size=50, random_state=42)\n",
    "len(train_list), len(val_list), len(test_list)\n",
    "# len(np.intersect1d(train_list, val_list)), len(np.intersect1d(train_list, test_list)), len(np.intersect1d(val_list, test_list))"
   ]
  },
  {
   "cell_type": "code",
   "execution_count": 62,
   "metadata": {},
   "outputs": [
    {
     "data": {
      "text/plain": [
       "(Malignant\n",
       " 0    378\n",
       " 1    239\n",
       " Name: count, dtype: int64,\n",
       " Malignant\n",
       " 0    27\n",
       " 1    23\n",
       " Name: count, dtype: int64,\n",
       " Malignant\n",
       " 0    119\n",
       " 1     97\n",
       " Name: count, dtype: int64)"
      ]
     },
     "execution_count": 62,
     "metadata": {},
     "output_type": "execute_result"
    },
    {
     "data": {
      "text/plain": [
       "(Calcification\n",
       " 0    473\n",
       " 1    144\n",
       " Name: count, dtype: int64,\n",
       " Calcification\n",
       " 0    40\n",
       " 1    10\n",
       " Name: count, dtype: int64,\n",
       " Calcification\n",
       " 0    171\n",
       " 1     45\n",
       " Name: count, dtype: int64)"
      ]
     },
     "execution_count": 62,
     "metadata": {},
     "output_type": "execute_result"
    },
    {
     "data": {
      "text/plain": [
       "(Sphericity\n",
       " 1    476\n",
       " 0    141\n",
       " Name: count, dtype: int64,\n",
       " Sphericity\n",
       " 1    36\n",
       " 0    14\n",
       " Name: count, dtype: int64,\n",
       " Sphericity\n",
       " 1    165\n",
       " 0     51\n",
       " Name: count, dtype: int64)"
      ]
     },
     "execution_count": 62,
     "metadata": {},
     "output_type": "execute_result"
    },
    {
     "data": {
      "text/plain": [
       "(Margin\n",
       " 0    453\n",
       " 1    164\n",
       " Name: count, dtype: int64,\n",
       " Margin\n",
       " 0    29\n",
       " 1    21\n",
       " Name: count, dtype: int64,\n",
       " Margin\n",
       " 0    154\n",
       " 1     62\n",
       " Name: count, dtype: int64)"
      ]
     },
     "execution_count": 62,
     "metadata": {},
     "output_type": "execute_result"
    },
    {
     "data": {
      "text/plain": [
       "(Lobulation\n",
       " 0    532\n",
       " 1     85\n",
       " Name: count, dtype: int64,\n",
       " Lobulation\n",
       " 0    45\n",
       " 1     5\n",
       " Name: count, dtype: int64,\n",
       " Lobulation\n",
       " 0    180\n",
       " 1     36\n",
       " Name: count, dtype: int64)"
      ]
     },
     "execution_count": 62,
     "metadata": {},
     "output_type": "execute_result"
    },
    {
     "data": {
      "text/plain": [
       "(Spiculation\n",
       " 0    536\n",
       " 1     81\n",
       " Name: count, dtype: int64,\n",
       " Spiculation\n",
       " 0    45\n",
       " 1     5\n",
       " Name: count, dtype: int64,\n",
       " Spiculation\n",
       " 0    176\n",
       " 1     40\n",
       " Name: count, dtype: int64)"
      ]
     },
     "execution_count": 62,
     "metadata": {},
     "output_type": "execute_result"
    },
    {
     "data": {
      "text/plain": [
       "(Texture\n",
       " 1    594\n",
       " 0     23\n",
       " Name: count, dtype: int64,\n",
       " Texture\n",
       " 1    49\n",
       " 0     1\n",
       " Name: count, dtype: int64,\n",
       " Texture\n",
       " 1    208\n",
       " 0      8\n",
       " Name: count, dtype: int64)"
      ]
     },
     "execution_count": 62,
     "metadata": {},
     "output_type": "execute_result"
    }
   ],
   "source": [
    "df_train = df_new[df_new['patient_id'].isin(train_list)]\n",
    "df_val = df_new[df_new['patient_id'].isin(val_list)]\n",
    "df_test = df_new[df_new['patient_id'].isin(test_list)]\n",
    "\n",
    "for label in labels:\n",
    "    df_train[label].value_counts(), df_val[label].value_counts(), df_test[label].value_counts()"
   ]
  },
  {
   "cell_type": "code",
   "execution_count": 60,
   "metadata": {},
   "outputs": [],
   "source": [
    "df_train.to_csv('../csvs/LIDC_train.csv', index=False)\n",
    "df_val.to_csv('../csvs/LIDC_validation_set.csv', index=False)\n",
    "df_test.to_csv('../csvs/LIDC_test_set.csv', index=False)"
   ]
  },
  {
   "cell_type": "code",
   "execution_count": 74,
   "metadata": {},
   "outputs": [
    {
     "data": {
      "text/plain": [
       "(384, 512, 512)"
      ]
     },
     "execution_count": 74,
     "metadata": {},
     "output_type": "execute_result"
    },
    {
     "data": {
      "image/png": "[encoded data removed]",
      "text/plain": [
       "<Figure size 640x480 with 1 Axes>"
      ]
     },
     "metadata": {},
     "output_type": "display_data"
    }
   ],
   "source": [
    "niis = glob('/mnt/nas/CT/npz_npy_LIDC/*.npz')\n",
    "nii = np.random.choice(niis)\n",
    "nii = np.load(nii)\n",
    "nii['img_data'].shape\n",
    "_ = plt.imshow(nii['img_data'][240], cmap='gray')"
   ]
  }
 ],
 "metadata": {
  "kernelspec": {
   "display_name": "longvit",
   "language": "python",
   "name": "python3"
  },
  "language_info": {
   "codemirror_mode": {
    "name": "ipython",
    "version": 3
   },
   "file_extension": ".py",
   "mimetype": "text/x-python",
   "name": "python",
   "nbconvert_exporter": "python",
   "pygments_lexer": "ipython3",
   "version": "3.11.10"
  }
 },
 "nbformat": 4,
 "nbformat_minor": 2
}
